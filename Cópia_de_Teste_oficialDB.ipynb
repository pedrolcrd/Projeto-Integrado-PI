{
  "cells": [
    {
      "cell_type": "markdown",
      "metadata": {
        "id": "IGFz79WiNPPF"
      },
      "source": [
        "### Consumo API\n",
        "\n",
        "Após seguir os passos indicados no slide determine a url fornecida pela ferramenta do governo:"
      ]
    },
    {
      "cell_type": "code",
      "execution_count": null,
      "metadata": {
        "id": "NpfBl5dTNPPH"
      },
      "outputs": [],
      "source": [
        "import requests\n",
        "import json\n",
        "import pandas as pd\n",
        "import sqlite3\n",
        "import os\n",
        "\n",
        "# Diretório onde o arquivo será salvo\n",
        "directory = \"datasets\"\n",
        "\n",
        "# Verifica se o diretório já existe, caso contrário, cria o diretório\n",
        "if not os.path.exists(directory):\n",
        "    os.makedirs(directory)\n",
        "\n",
        "class etBcb:\n",
        "    def __init__(self, api_link):\n",
        "        self.api_link = api_link\n",
        "        self.dados = None\n",
        "        self.df = None\n",
        "\n",
        "    def requisicao_api(self):\n",
        "        \"\"\"Método GET para a API e armazenar a resposta.\"\"\"\n",
        "        try:\n",
        "            resposta = requests.get(self.api_link)\n",
        "            if resposta.status_code == 200:\n",
        "                self.dados = resposta.json()\n",
        "                print('Status Code:', resposta.status_code)\n",
        "            else:\n",
        "                print('Erro na requisição. Status Code:', resposta.status_code)\n",
        "        except Exception as e:\n",
        "            print('Erro ao fazer a requisição:', e)\n",
        "\n",
        "    def transformar_dados(self, chave_json):\n",
        "        \"\"\"Método para transformar os dados JSON em um DataFrame pandas.\"\"\"\n",
        "        if self.dados:\n",
        "            try:\n",
        "                data = self.dados[chave_json]\n",
        "                self.df = pd.json_normalize(data)\n",
        "                print('Transformação concluída.')\n",
        "            except KeyError:\n",
        "                print(f'Chave \"{chave_json}\" não encontrada nos dados JSON.')\n",
        "            except Exception as e:\n",
        "                print('Erro ao transformar os dados:', e)\n",
        "        else:\n",
        "            print('Nenhum dado para transformar.')\n",
        "\n",
        "    def salvar_sqlite(self, nome_tabela):\n",
        "        \"\"\"Método para salvar o DataFrame transformado em um banco de dados SQLite.\"\"\"\n",
        "        nome_banco = 'Fecomdb.db'\n",
        "        if self.df is not None:\n",
        "            try:\n",
        "                conexao = sqlite3.connect(nome_banco)\n",
        "                self.df.to_sql(nome_tabela, conexao, if_exists='replace', index=False)\n",
        "                conexao.close()\n",
        "                print(f'Dados salvos na tabela \"{nome_tabela}\" do banco de dados \"{nome_banco}\".')\n",
        "            except Exception as e:\n",
        "                print('Erro ao salvar os dados no banco de dados SQLite:', e)\n",
        "        else:\n",
        "            print('Nenhum dado para salvar no banco de dados.')\n",
        "\n",
        "    def salvar_json(self, nome_arquivo):\n",
        "        \"\"\"Método para salvar os dados extraídos em um arquivo JSON.\"\"\"\n",
        "        if self.dados is not None:\n",
        "            try:\n",
        "                with open(f'datasets/{nome_arquivo}', 'w') as f:\n",
        "                    json.dump(self.dados, f)\n",
        "                print(f'Dados salvos no arquivo JSON: {nome_arquivo}')\n",
        "            except Exception as e:\n",
        "                print('Erro ao salvar o JSON:', e)\n",
        "        else:\n",
        "            print('Nenhum dado no JSON.')\n",
        "\n",
        "    def salvar_csv(self, nome_arquivo):\n",
        "        \"\"\"Método para salvar o DataFrame em um arquivo CSV.\"\"\"\n",
        "        if self.df is not None:\n",
        "            try:\n",
        "                self.df.to_csv(f'datasets/{nome_arquivo}', sep=';', encoding='utf-8-sig')\n",
        "                print(f'Dados salvos no arquivo CSV: {nome_arquivo}')\n",
        "            except Exception as e:\n",
        "                print('Erro ao salvar o CSV:', e)\n",
        "        else:\n",
        "            print('Nenhum dado no CSV.')"
      ]
    },
    {
      "cell_type": "markdown",
      "source": [
        "### Criando a tabela\n",
        "\n"
      ],
      "metadata": {
        "id": "JcrEPpnbTp0X"
      }
    },
    {
      "cell_type": "code",
      "source": [
        "#Estatisticas de meios de pagamentos Trimestrais\n",
        "\n",
        "\n",
        "url = \"https://olinda.bcb.gov.br/olinda/servico/MPV_DadosAbertos/versao/v1/odata/MeiosdePagamentosTrimestralDA(trimestre=@trimestre)?@trimestre='20201'&$top=10000&$format=json&$select=datatrimestre,valorPix,valorTED,valorTEC,valorCheque,valorBoleto,valorDOC,valorCartaoCredito,valorCartaoDebito,valorCartaoPrePago,valorTransIntrabancaria,valorConvenios,valorDebitoDireto,valorSaques,quantidadePix,quantidadeTED,quantidadeTEC,quantidadeCheque,quantidadeBoleto,quantidadeDOC,quantidadeCartaoCredito,quantidadeCartaoDebito,quantidadeCartaoPrePago,quantidadeTransIntrabancaria,quantidadeConvenios,quantidadeDebitoDireto,quantidadeSaques\"\n",
        "\n",
        "# Instanciar a classe ETL com o link da API\n",
        "etl = etBcb(url)\n",
        "\n",
        "# Executar o método de requisição para extrair os dados da API\n",
        "etl.requisicao_api()\n",
        "\n",
        "# Transformar os dados extraídos em um DataFrame pandas\n",
        "etl.transformar_dados('value')\n",
        "\n",
        "# Salvar o DataFrame transformado no banco de dados SQLite\n",
        "etl.salvar_sqlite('EstatisticaDeMeiosDePagamentosTRIMES')\n",
        "\n",
        "# Salvar o DataFrame em um arquivo CSV\n",
        "etl.salvar_csv('PagamentosTrimes.csv')"
      ],
      "metadata": {
        "id": "8TRRF0afObO7",
        "colab": {
          "base_uri": "https://localhost:8080/"
        },
        "outputId": "eff0d1a3-3b2e-419c-9798-f748da16c570"
      },
      "execution_count": null,
      "outputs": [
        {
          "output_type": "stream",
          "name": "stdout",
          "text": [
            "Status Code: 200\n",
            "Transformação concluída.\n",
            "Dados salvos na tabela \"EstatisticaDeMeiosDePagamentosTRIMES\" do banco de dados \"Fecomdb.db\".\n",
            "Dados salvos no arquivo CSV: PagamentosTrimes.csv\n"
          ]
        }
      ]
    },
    {
      "cell_type": "code",
      "source": [
        "#Estatisticas de meios de pagamentos Mensais\n",
        "\n",
        "\n",
        "url = \"https://olinda.bcb.gov.br/olinda/servico/MPV_DadosAbertos/versao/v1/odata/MeiosdePagamentosMensalDA(AnoMes=@AnoMes)?@AnoMes='202001'&$top=10000&$format=json&$select=AnoMes,quantidadePix,valorPix,quantidadeTED,valorTED,quantidadeTEC,valorTEC,quantidadeCheque,valorCheque,quantidadeBoleto,valorBoleto,quantidadeDOC,valorDOC\"\n",
        "\n",
        "# Instanciar a classe ETL com o link da API\n",
        "etl = etBcb(url)\n",
        "\n",
        "# Executar o método de requisição para extrair os dados da API\n",
        "etl.requisicao_api()\n",
        "\n",
        "# Transformar os dados extraídos em um DataFrame pandas\n",
        "etl.transformar_dados('value')\n",
        "\n",
        "# Salvar o DataFrame transformado no banco de dados SQLite\n",
        "etl.salvar_sqlite('EstatisticaDeMeiosDePagamentosMES')\n",
        "\n",
        "# Salvar o DataFrame em um arquivo CSV\n",
        "etl.salvar_csv('meios_de_pagamentos_mensais.csv')"
      ],
      "metadata": {
        "colab": {
          "base_uri": "https://localhost:8080/"
        },
        "id": "9GrX4U47gm0u",
        "outputId": "d5264af7-76dc-49b2-ffed-dcb4c1a687ad"
      },
      "execution_count": null,
      "outputs": [
        {
          "output_type": "stream",
          "name": "stdout",
          "text": [
            "Status Code: 200\n",
            "Transformação concluída.\n",
            "Dados salvos na tabela \"EstatisticaDeMeiosDePagamentosMES\" do banco de dados \"Fecomdb.db\".\n",
            "Dados salvos no arquivo CSV: meios_de_pagamentos_mensais.csv\n"
          ]
        }
      ]
    },
    {
      "cell_type": "code",
      "source": [
        "#Estoque e transações de cartões\n",
        "\n",
        "\n",
        "url = \"https://olinda.bcb.gov.br/olinda/servico/MPV_DadosAbertos/versao/v1/odata/Quantidadeetransacoesdecartoes(trimestre=@trimestre)?@trimestre='20201'&$top=10000&$format=json&$select=trimestre,nomeBandeira,nomeFuncao,produto,qtdCartoesEmitidos,qtdCartoesAtivos,qtdTransacoesNacionais,valorTransacoesNacionais,qtdTransacoesInternacionais,valorTransacoesInternacionais\"\n",
        "\n",
        "# Instanciar a classe ETL com o link da API\n",
        "etl = etBcb(url)\n",
        "\n",
        "# Executar o método de requisição para extrair os dados da API\n",
        "etl.requisicao_api()\n",
        "\n",
        "# Salvar os dados extraídos em um arquivo JSON\n",
        "etl.salvar_json('resultado.json')\n",
        "\n",
        "# Transformar os dados extraídos em um DataFrame pandas\n",
        "etl.transformar_dados('value')\n",
        "\n",
        "# Salvar o DataFrame transformado no banco de dados SQLite\n",
        "etl.salvar_sqlite('TransacoesCartoes')\n",
        "\n",
        "# Salvar o DataFrame em um arquivo CSV\n",
        "etl.salvar_csv('transacoes_cartoes.csv')"
      ],
      "metadata": {
        "colab": {
          "base_uri": "https://localhost:8080/"
        },
        "id": "AdKHPnsGhjtC",
        "outputId": "c1427b3c-218e-4199-c4ec-8be8b5588521"
      },
      "execution_count": null,
      "outputs": [
        {
          "output_type": "stream",
          "name": "stdout",
          "text": [
            "Status Code: 200\n",
            "Dados salvos no arquivo JSON: resultado.json\n",
            "Transformação concluída.\n",
            "Dados salvos na tabela \"TransacoesCartoes\" do banco de dados \"Fecomdb.db\".\n",
            "Dados salvos no arquivo CSV: transacoes_cartoes.csv\n"
          ]
        }
      ]
    },
    {
      "cell_type": "code",
      "source": [
        "df = pd.read_csv('datasets/transacoes_cartoes.csv', sep=';')\n",
        "\n",
        "# Função para converter o formato de trimestre para data\n",
        "def trimestre_para_data(trimestre):\n",
        "    ano = int(str(trimestre)[:4])\n",
        "    trimestre_num = int(str(trimestre)[-1])\n",
        "    # Ajustando o mês para o início de cada trimestre\n",
        "    mes = (trimestre_num - 1) * 3 + 1\n",
        "    return pd.to_datetime(str(ano) + '-' + str(mes) + '-01')\n",
        "\n",
        "# Aplicando a função ao DataFrame\n",
        "df['trimestre'] = df['trimestre'].apply(trimestre_para_data)\n",
        "df.to_csv('datasets/Cartoes2.csv', sep=';', decimal=',')"
      ],
      "metadata": {
        "id": "c68UtVpx5huB"
      },
      "execution_count": null,
      "outputs": []
    },
    {
      "cell_type": "code",
      "source": [
        "#Expectativa de mercado mensais\n",
        "\n",
        "\n",
        "url = \"https://olinda.bcb.gov.br/olinda/servico/Expectativas/versao/v1/odata/ExpectativaMercadoMensais?$top=100000&$format=json&$select=Indicador,Data,DataReferencia,Media,Mediana,DesvioPadrao,Minimo,Maximo,numeroRespondentes,baseCalculo\"\n",
        "\n",
        "# Instanciar a classe ETL com o link da API\n",
        "etl = etBcb(url)\n",
        "\n",
        "# Executar o método de requisição para extrair os dados da API\n",
        "etl.requisicao_api()\n",
        "\n",
        "# Salvar os dados extraídos em um arquivo JSON\n",
        "etl.salvar_json('resultado.json')\n",
        "\n",
        "# Transformar os dados extraídos em um DataFrame pandas\n",
        "etl.transformar_dados('value')\n",
        "\n",
        "# Salvar o DataFrame transformado no banco de dados SQLite\n",
        "etl.salvar_sqlite('ExpecMercadoMensais')\n",
        "\n",
        "# Salvar o DataFrame em um arquivo CSV\n",
        "etl.salvar_csv('expectativa_mercado_mensais.csv')"
      ],
      "metadata": {
        "colab": {
          "base_uri": "https://localhost:8080/"
        },
        "id": "2-OB65MQik_H",
        "outputId": "a997a360-69b0-40ac-862a-f5929b3e313b"
      },
      "execution_count": null,
      "outputs": [
        {
          "output_type": "stream",
          "name": "stdout",
          "text": [
            "Status Code: 200\n",
            "Dados salvos no arquivo JSON: resultado.json\n",
            "Transformação concluída.\n",
            "Dados salvos na tabela \"ExpecMercadoMensais\" do banco de dados \"Fecomdb.db\".\n",
            "Dados salvos no arquivo CSV: expectativa_mercado_mensais.csv\n"
          ]
        }
      ]
    },
    {
      "cell_type": "code",
      "source": [
        "#Expectativa de mercado selic\n",
        "\n",
        "\n",
        "url = \"https://olinda.bcb.gov.br/olinda/servico/Expectativas/versao/v1/odata/ExpectativasMercadoSelic?$top=100000&$format=json&$select=Indicador,Data,Reuniao,Media,Mediana,DesvioPadrao,Minimo,Maximo,numeroRespondentes,baseCalculo\"\n",
        "\n",
        "# Instanciar a classe ETL com o link da API\n",
        "etl = etBcb(url)\n",
        "\n",
        "# Executar o método de requisição para extrair os dados da API\n",
        "etl.requisicao_api()\n",
        "\n",
        "# Salvar os dados extraídos em um arquivo JSON\n",
        "etl.salvar_json('resultado.json')\n",
        "\n",
        "# Transformar os dados extraídos em um DataFrame pandas\n",
        "etl.transformar_dados('value')\n",
        "\n",
        "# Salvar o DataFrame transformado no banco de dados SQLite\n",
        "etl.salvar_sqlite('ExpecMercadoSelic')\n",
        "\n",
        "# Salvar o DataFrame em um arquivo CSV\n",
        "etl.salvar_csv('expectativa_mercado_selic.csv')"
      ],
      "metadata": {
        "colab": {
          "base_uri": "https://localhost:8080/"
        },
        "id": "MnNuvuvgjlMD",
        "outputId": "fbd57385-013a-4655-bcb6-cbb6b675c062"
      },
      "execution_count": null,
      "outputs": [
        {
          "output_type": "stream",
          "name": "stdout",
          "text": [
            "Status Code: 200\n",
            "Dados salvos no arquivo JSON: resultado.json\n",
            "Transformação concluída.\n",
            "Dados salvos na tabela \"ExpecMercadoSelic\" do banco de dados \"Fecomdb.db\".\n",
            "Dados salvos no arquivo CSV: expectativa_mercado_selic.csv\n"
          ]
        }
      ]
    },
    {
      "cell_type": "code",
      "source": [
        "#Expectativa de mercado Anuais\n",
        "\n",
        "\n",
        "url = \"https://olinda.bcb.gov.br/olinda/servico/Expectativas/versao/v1/odata/ExpectativasMercadoAnuais?$top=100000&$format=json&$select=Indicador,IndicadorDetalhe,Data,DataReferencia,Media,Mediana,DesvioPadrao,Minimo,Maximo,numeroRespondentes,baseCalculo\"\n",
        "\n",
        "# Instanciar a classe ETL com o link da API\n",
        "etl = etBcb(url)\n",
        "\n",
        "# Executar o método de requisição para extrair os dados da API\n",
        "etl.requisicao_api()\n",
        "\n",
        "# Salvar os dados extraídos em um arquivo JSON\n",
        "etl.salvar_json('resultado.json')\n",
        "\n",
        "# Transformar os dados extraídos em um DataFrame pandas\n",
        "etl.transformar_dados('value')\n",
        "\n",
        "# Salvar o DataFrame transformado no banco de dados SQLite\n",
        "etl.salvar_sqlite('ExpecMercadoAnuais')\n",
        "\n",
        "# Salvar o DataFrame em um arquivo CSV\n",
        "etl.salvar_csv('expectativa_mercado_anuais.csv')"
      ],
      "metadata": {
        "colab": {
          "base_uri": "https://localhost:8080/"
        },
        "id": "lgVF1wRskhZh",
        "outputId": "eb20dce4-5ff7-497a-820d-ea04e7e6dfb8"
      },
      "execution_count": null,
      "outputs": [
        {
          "output_type": "stream",
          "name": "stdout",
          "text": [
            "Status Code: 200\n",
            "Dados salvos no arquivo JSON: resultado.json\n",
            "Transformação concluída.\n",
            "Dados salvos na tabela \"ExpecMercadoAnuais\" do banco de dados \"Fecomdb.db\".\n",
            "Dados salvos no arquivo CSV: expectativa_mercado_anuais.csv\n"
          ]
        }
      ]
    },
    {
      "cell_type": "code",
      "source": [
        "#Expectativa de mercado Trimestrais\n",
        "\n",
        "\n",
        "url = \"https://olinda.bcb.gov.br/olinda/servico/Expectativas/versao/v1/odata/ExpectativasMercadoTrimestrais?$top=10000&$format=json&$select=Indicador,Data,DataReferencia,Media,Mediana,DesvioPadrao,Minimo,Maximo,numeroRespondentes,baseCalculo\"\n",
        "\n",
        "# Instanciar a classe ETL com o link da API\n",
        "etl = etBcb(url)\n",
        "\n",
        "# Executar o método de requisição para extrair os dados da API\n",
        "etl.requisicao_api()\n",
        "\n",
        "# Salvar os dados extraídos em um arquivo JSON\n",
        "etl.salvar_json('resultado.json')\n",
        "\n",
        "# Transformar os dados extraídos em um DataFrame pandas\n",
        "etl.transformar_dados('value')\n",
        "\n",
        "# Salvar o DataFrame transformado no banco de dados SQLite\n",
        "etl.salvar_sqlite('ExpecMercadoTrimestrais')\n",
        "\n",
        "# Salvar o DataFrame em um arquivo CSV\n",
        "etl.salvar_csv('expectativa_mercado_trimestrais.csv')"
      ],
      "metadata": {
        "colab": {
          "base_uri": "https://localhost:8080/"
        },
        "id": "8OoWQQyV2yEG",
        "outputId": "e2378dfe-2e51-4b46-b6a4-26d0013dce7c"
      },
      "execution_count": null,
      "outputs": [
        {
          "output_type": "stream",
          "name": "stdout",
          "text": [
            "Status Code: 200\n",
            "Dados salvos no arquivo JSON: resultado.json\n",
            "Transformação concluída.\n",
            "Dados salvos na tabela \"ExpecMercadoTrimestrais\" do banco de dados \"Fecomdb.db\".\n",
            "Dados salvos no arquivo CSV: expectativa_mercado_trimestrais.csv\n"
          ]
        }
      ]
    },
    {
      "cell_type": "markdown",
      "source": [
        "### Começando a análise de dados"
      ],
      "metadata": {
        "id": "Hu8EwSwlT34o"
      }
    },
    {
      "cell_type": "code",
      "source": [
        "conn = sqlite3.connect('Fecomdb.db')\n",
        "\n",
        "query = \"SELECT name FROM sqlite_master WHERE type='table';\"\n",
        "tabelas = pd.read_sql_query(query, conn)\n",
        "\n",
        "for tabela in tabelas['name']:\n",
        "    globals()[tabela] = pd.read_sql_query(f\"SELECT * FROM {tabela}\", conn)\n",
        "    print(f\"Variável {tabela}, criada\")\n",
        "\n",
        "conn.close()"
      ],
      "metadata": {
        "colab": {
          "base_uri": "https://localhost:8080/"
        },
        "id": "i57Z2Oj5OHIb",
        "outputId": "5a3fc48b-f855-4acb-d0ef-426d2df18cda"
      },
      "execution_count": null,
      "outputs": [
        {
          "output_type": "stream",
          "name": "stdout",
          "text": [
            "Variável ExpectativaMercadoMensais, criada\n",
            "Variável EstatisticaDeMeiosDePagamentosMES, criada\n",
            "Variável EstatisticaDeMeiosDePagamentosTRIMES, criada\n",
            "Variável ExpecMercadoMensais, criada\n",
            "Variável ExpecMercadoSelic, criada\n",
            "Variável ExpecMercadoAnuais, criada\n",
            "Variável ExpecMercadoTrimestrais, criada\n",
            "Variável TransacoesCartoes, criada\n"
          ]
        }
      ]
    },
    {
      "cell_type": "markdown",
      "source": [],
      "metadata": {
        "id": "ZGfCuNlMzsME"
      }
    },
    {
      "cell_type": "markdown",
      "source": [
        "###Expectativa de mercado Anuais"
      ],
      "metadata": {
        "id": "tR9cq4txnNQ_"
      }
    },
    {
      "cell_type": "markdown",
      "source": [],
      "metadata": {
        "id": "2yr8ZqqPnLen"
      }
    },
    {
      "cell_type": "code",
      "source": [
        "import matplotlib.pyplot as plt\n",
        "\n",
        "# Verifique as colunas do DataFrame\n",
        "print(df.columns)\n",
        "\n",
        "# Agrupar os dados usando a coluna 'Data' em vez de 'DataReferencia'\n",
        "df_grouped = df.groupby(['Data'])[['Media', 'Mediana']].sum()\n",
        "\n",
        "df_grouped.plot(kind='bar', figsize=(10, 6))\n",
        "\n",
        "plt.title('Expectativa de Mercado Anuais')\n",
        "plt.ylabel('Valor (R$)')\n",
        "plt.xlabel('Indicador, Data')\n",
        "plt.xlim([0, len(df_grouped) - 1])\n",
        "plt.xticks(rotation=45, ha='right')\n",
        "\n",
        "plt.tight_layout()\n",
        "plt.show()\n"
      ],
      "metadata": {
        "colab": {
          "base_uri": "https://localhost:8080/",
          "height": 980
        },
        "id": "2zwi0XibSSdt",
        "outputId": "58ca4583-f20e-4ba3-b400-04491a69aa23"
      },
      "execution_count": null,
      "outputs": [
        {
          "output_type": "stream",
          "name": "stdout",
          "text": [
            "Index(['datatrimestre', 'valorPix', 'valorTED', 'valorTEC', 'valorCheque',\n",
            "       'valorBoleto', 'valorDOC', 'valorCartaoCredito', 'valorCartaoDebito',\n",
            "       'valorCartaoPrePago', 'valorTransIntrabancaria', 'valorConvenios',\n",
            "       'valorDebitoDireto', 'valorSaques', 'quantidadePix', 'quantidadeTED',\n",
            "       'quantidadeTEC', 'quantidadeCheque', 'quantidadeBoleto',\n",
            "       'quantidadeDOC', 'quantidadeCartaoCredito', 'quantidadeCartaoDebito',\n",
            "       'quantidadeCartaoPrePago', 'quantidadeTransIntrabancaria',\n",
            "       'quantidadeConvenios', 'quantidadeDebitoDireto', 'quantidadeSaques'],\n",
            "      dtype='object')\n"
          ]
        },
        {
          "output_type": "error",
          "ename": "AttributeError",
          "evalue": "'Index' object has no attribute 'strftime'",
          "traceback": [
            "\u001b[0;31m---------------------------------------------------------------------------\u001b[0m",
            "\u001b[0;31mAttributeError\u001b[0m                            Traceback (most recent call last)",
            "\u001b[0;32m<ipython-input-35-22d0344b2711>\u001b[0m in \u001b[0;36m<cell line: 26>\u001b[0;34m()\u001b[0m\n\u001b[1;32m     24\u001b[0m \u001b[0;31m# Definindo ticks trimestrais\u001b[0m\u001b[0;34m\u001b[0m\u001b[0;34m\u001b[0m\u001b[0m\n\u001b[1;32m     25\u001b[0m \u001b[0mticks\u001b[0m \u001b[0;34m=\u001b[0m \u001b[0mrange\u001b[0m\u001b[0;34m(\u001b[0m\u001b[0;36m0\u001b[0m\u001b[0;34m,\u001b[0m \u001b[0mlen\u001b[0m\u001b[0;34m(\u001b[0m\u001b[0mdf_grouped\u001b[0m\u001b[0;34m)\u001b[0m\u001b[0;34m,\u001b[0m \u001b[0;36m1\u001b[0m\u001b[0;34m)\u001b[0m  \u001b[0;31m# Use 1 para mostrar todos os trimestres\u001b[0m\u001b[0;34m\u001b[0m\u001b[0;34m\u001b[0m\u001b[0m\n\u001b[0;32m---> 26\u001b[0;31m \u001b[0mplt\u001b[0m\u001b[0;34m.\u001b[0m\u001b[0mxticks\u001b[0m\u001b[0;34m(\u001b[0m\u001b[0mticks\u001b[0m\u001b[0;34m,\u001b[0m \u001b[0mdf_grouped\u001b[0m\u001b[0;34m.\u001b[0m\u001b[0mindex\u001b[0m\u001b[0;34m.\u001b[0m\u001b[0mstrftime\u001b[0m\u001b[0;34m(\u001b[0m\u001b[0;34m'%Y-%m'\u001b[0m\u001b[0;34m)\u001b[0m\u001b[0;34m,\u001b[0m \u001b[0mrotation\u001b[0m\u001b[0;34m=\u001b[0m\u001b[0;36m45\u001b[0m\u001b[0;34m,\u001b[0m \u001b[0mha\u001b[0m\u001b[0;34m=\u001b[0m\u001b[0;34m'right'\u001b[0m\u001b[0;34m)\u001b[0m\u001b[0;34m\u001b[0m\u001b[0;34m\u001b[0m\u001b[0m\n\u001b[0m\u001b[1;32m     27\u001b[0m \u001b[0;34m\u001b[0m\u001b[0m\n\u001b[1;32m     28\u001b[0m \u001b[0mplt\u001b[0m\u001b[0;34m.\u001b[0m\u001b[0mtight_layout\u001b[0m\u001b[0;34m(\u001b[0m\u001b[0;34m)\u001b[0m\u001b[0;34m\u001b[0m\u001b[0;34m\u001b[0m\u001b[0m\n",
            "\u001b[0;31mAttributeError\u001b[0m: 'Index' object has no attribute 'strftime'"
          ]
        },
        {
          "output_type": "display_data",
          "data": {
            "text/plain": [
              "<Figure size 1000x600 with 1 Axes>"
            ],
            "image/png": "[encoded data removed]"
          },
          "metadata": {}
        }
      ]
    },
    {
      "cell_type": "code",
      "source": [
        "import pandas as pd\n",
        "import matplotlib.pyplot as plt\n",
        "\n",
        "# Supondo que df já esteja carregado\n",
        "\n",
        "# Verifique as colunas do DataFrame\n",
        "print(df.columns)\n",
        "\n",
        "# Converter a coluna 'Data' para datetime\n",
        "df['Data'] = pd.to_datetime(df['Data'])\n",
        "\n",
        "# Criar a coluna 'trimestre' (Ajuste o formato conforme necessário)\n",
        "df['trimestre'] = df['Data'].dt.to_period('Q').astype(str).str.replace('Q', '').astype(int)\n",
        "\n",
        "# Filtrando dados para o último ano (20240)\n",
        "df_last_year = df[df['trimestre'] >= 20240]\n",
        "\n",
        "# Agrupando os dados (substitua 'Indicador' e 'Media' conforme apropriado)\n",
        "df_last_year_grouped = df_last_year.groupby(['trimestre', 'Indicador'])[['Media', 'Mediana']].sum()\n",
        "\n",
        "# Criar o gráfico\n",
        "df_last_year_grouped.plot(kind='bar', figsize=(10, 6))\n",
        "\n",
        "plt.title('Total de Expectativas por Trimestre e Indicador')\n",
        "plt.ylabel('Valor (R$)')\n",
        "plt.xlabel('Trimestre, Indicador')\n",
        "plt.xticks(rotation=45, ha='right')\n",
        "\n",
        "plt.tight_layout()\n",
        "plt.show()\n"
      ],
      "metadata": {
        "colab": {
          "base_uri": "https://localhost:8080/",
          "height": 659
        },
        "id": "MQl3Gi_ISvbt",
        "outputId": "434ca766-90b2-43f5-9a4e-289cc89823ca"
      },
      "execution_count": null,
      "outputs": [
        {
          "output_type": "stream",
          "name": "stdout",
          "text": [
            "Index(['Indicador', 'Data', 'Reuniao', 'Media', 'Mediana', 'DesvioPadrao',\n",
            "       'Minimo', 'Maximo', 'numeroRespondentes', 'baseCalculo'],\n",
            "      dtype='object')\n"
          ]
        },
        {
          "output_type": "display_data",
          "data": {
            "text/plain": [
              "<Figure size 1000x600 with 1 Axes>"
            ],
            "image/png": "[encoded data removed]"
          },
          "metadata": {}
        }
      ]
    }
  ],
  "metadata": {
    "kernelspec": {
      "display_name": "Python 3",
      "language": "python",
      "name": "python3"
    },
    "language_info": {
      "codemirror_mode": {
        "name": "ipython",
        "version": 3
      },
      "file_extension": ".py",
      "mimetype": "text/x-python",
      "name": "python",
      "nbconvert_exporter": "python",
      "pygments_lexer": "ipython3",
      "version": "3.12.5"
    },
    "colab": {
      "provenance": []
    }
  },
  "nbformat": 4,
  "nbformat_minor": 0
}