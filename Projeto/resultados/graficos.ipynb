{
 "cells": [
  {
   "cell_type": "markdown",
   "metadata": {},
   "source": [
    "Expectativa de mercado"
   ]
  },
  {
   "cell_type": "code",
   "execution_count": null,
   "metadata": {},
   "outputs": [],
   "source": [
    "import matplotlib.pyplot as plt\n",
    "\n",
    "# Verifique as colunas do DataFrame\n",
    "print(df.columns)\n",
    "\n",
    "# Agrupar os dados usando a coluna 'Data' em vez de 'DataReferencia'\n",
    "df_grouped = df.groupby(['Data'])[['Media', 'Mediana']].sum()\n",
    "\n",
    "df_grouped.plot(kind='bar', figsize=(10, 6))\n",
    "\n",
    "plt.title('Expectativa de Mercado Anuais')\n",
    "plt.ylabel('Valor (R$)')\n",
    "plt.xlabel('Indicador, Data')\n",
    "plt.xlim([0, len(df_grouped) - 1])\n",
    "plt.xticks(rotation=45, ha='right')\n",
    "\n",
    "plt.tight_layout()\n",
    "plt.show()\n"
   ]
  },
  {
   "cell_type": "markdown",
   "metadata": {},
   "source": [
    "Expectativa de mercado por trimestre"
   ]
  },
  {
   "cell_type": "code",
   "execution_count": null,
   "metadata": {},
   "outputs": [],
   "source": [
    "import pandas as pd\n",
    "import matplotlib.pyplot as plt\n",
    "\n",
    "# Supondo que df já esteja carregado\n",
    "\n",
    "# Verifique as colunas do DataFrame\n",
    "print(df.columns)\n",
    "\n",
    "# Converter a coluna 'Data' para datetime\n",
    "df['Data'] = pd.to_datetime(df['Data'])\n",
    "\n",
    "# Criar a coluna 'trimestre' (Ajuste o formato conforme necessário)\n",
    "df['trimestre'] = df['Data'].dt.to_period('Q').astype(str).str.replace('Q', '').astype(int)\n",
    "\n",
    "# Filtrando dados para o último ano (20240)\n",
    "df_last_year = df[df['trimestre'] >= 20240]\n",
    "\n",
    "# Agrupando os dados (substitua 'Indicador' e 'Media' conforme apropriado)\n",
    "df_last_year_grouped = df_last_year.groupby(['trimestre', 'Indicador'])[['Media', 'Mediana']].sum()\n",
    "\n",
    "# Criar o gráfico\n",
    "df_last_year_grouped.plot(kind='bar', figsize=(10, 6))\n",
    "\n",
    "plt.title('Total de Expectativas por Trimestre e Indicador')\n",
    "plt.ylabel('Valor (R$)')\n",
    "plt.xlabel('Trimestre, Indicador')\n",
    "plt.xticks(rotation=45, ha='right')\n",
    "\n",
    "plt.tight_layout()\n",
    "plt.show()\n"
   ]
  }
 ],
 "metadata": {
  "language_info": {
   "name": "python"
  }
 },
 "nbformat": 4,
 "nbformat_minor": 2
}
